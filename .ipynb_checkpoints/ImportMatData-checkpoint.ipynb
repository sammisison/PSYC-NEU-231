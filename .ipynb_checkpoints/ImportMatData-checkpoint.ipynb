{
 "cells": [
  {
   "cell_type": "markdown",
   "metadata": {},
   "source": [
    "# brief demo of importing data from matlab into python (numpy).\n",
    "[note about file format](https://docs.scipy.org/doc/numpy-1.15.1/reference/generated/numpy.lib.format.html#module-numpy.lib.format)"
   ]
  },
  {
   "cell_type": "code",
   "execution_count": 1,
   "metadata": {},
   "outputs": [],
   "source": [
    "import numpy as np\n",
    "import scipy.io as sio\n",
    "import matplotlib.pyplot as plt\n",
    "asdf"
   ]
  },
  {
   "cell_type": "code",
   "execution_count": 15,
   "metadata": {},
   "outputs": [],
   "source": [
    "# kirsten's ssvep data (s9)\n",
    "tmp = sio.loadmat(\"eeg_data.mat\")\n",
    "data = tmp[\"eeg_data\"]\n",
    "time_x = np.squeeze(tmp[\"time_x\"].T)\n",
    "trial_codes = np.squeeze(tmp[\"trial_codes\"])\n",
    "srate = np.squeeze(tmp[\"srate\"])\n",
    "\n",
    "# The .npz file format is a zipped archive of files named after the variables they contain.\n",
    "np.savez(\"eeg_data01.npz\", data=data, tx=time_x, trial_codes=trial_codes, sr=srate)"
   ]
  },
  {
   "cell_type": "markdown",
   "metadata": {},
   "source": [
    "## now load the data back in and check it..."
   ]
  },
  {
   "cell_type": "code",
   "execution_count": 14,
   "metadata": {},
   "outputs": [
    {
     "name": "stdout",
     "output_type": "stream",
     "text": [
      "250\n"
     ]
    }
   ],
   "source": [
    "# josh's eeg alpha power data (s8)\n",
    "tmp = sio.loadmat(\"eeg_data00.mat\")\n",
    "data = np.squeeze(tmp[\"data\"])\n",
    "time_x = np.squeeze(tmp[\"time_x\"].T)\n",
    "sr = np.squeeze(tmp[\"sr\"])\n",
    "print(sr)\n",
    "np.savez(\"eeg_data00.npz\", data=data, tx=time_x, sr=sr)"
   ]
  }
 ],
 "metadata": {
  "kernelspec": {
   "display_name": "Python 3",
   "language": "python",
   "name": "python3"
  },
  "language_info": {
   "codemirror_mode": {
    "name": "ipython",
    "version": 3
   },
   "file_extension": ".py",
   "mimetype": "text/x-python",
   "name": "python",
   "nbconvert_exporter": "python",
   "pygments_lexer": "ipython3",
   "version": "3.6.5"
  }
 },
 "nbformat": 4,
 "nbformat_minor": 2
}
