{
 "cells": [
  {
   "cell_type": "markdown",
   "metadata": {},
   "source": [
    "# In class exercises for Tutorial00 intro to jupyter and python basics"
   ]
  },
  {
   "cell_type": "markdown",
   "metadata": {},
   "source": [
    "## Exercise 1\n",
    "1. Create a list (my_list) with values from 1 to 100\n",
    "1. Print every 4th value from 20 to 80\n",
    "1. Print the above sequence backwards\n",
    "1. Compute the sum of the above sequence (hint: there is a built in function 'sum')"
   ]
  },
  {
   "cell_type": "code",
   "execution_count": 16,
   "metadata": {},
   "outputs": [
    {
     "name": "stdout",
     "output_type": "stream",
     "text": [
      "[1, 2, 3, 4, 5, 6, 7, 8, 9, 10, 11, 12, 13, 14, 15, 16, 17, 18, 19, 20, 21, 22, 23, 24, 25, 26, 27, 28, 29, 30, 31, 32, 33, 34, 35, 36, 37, 38, 39, 40, 41, 42, 43, 44, 45, 46, 47, 48, 49, 50, 51, 52, 53, 54, 55, 56, 57, 58, 59, 60, 61, 62, 63, 64, 65, 66, 67, 68, 69, 70, 71, 72, 73, 74, 75, 76, 77, 78, 79, 80, 81, 82, 83, 84, 85, 86, 87, 88, 89, 90, 91, 92, 93, 94, 95, 96, 97, 98, 99, 100]\n",
      "[20, 24, 28, 32, 36, 40, 44, 48, 52, 56, 60, 64, 68, 72, 76, 80]\n",
      "[80, 76, 72, 68, 64, 60, 56, 52, 48, 44, 40, 36, 32, 28, 24, 20]\n"
     ]
    },
    {
     "data": {
      "text/plain": [
       "800"
      ]
     },
     "execution_count": 16,
     "metadata": {},
     "output_type": "execute_result"
    }
   ],
   "source": [
    "# Create a list with values from 1 to 100\n",
    "my_list = list(range(1,101))\n",
    "print(my_list)\n",
    "\n",
    "# Print every 4th value from 20 to 80\n",
    "new_list = my_list[19:81:4]\n",
    "print(new_list)\n",
    "\n",
    "# Print the above sequence backwards\n",
    "back_list = new_list[::-1]\n",
    "print(back_list)\n",
    "\n",
    "# Compute the sum of the above sequence\n",
    "sum(back_list)\n",
    "    "
   ]
  },
  {
   "cell_type": "markdown",
   "metadata": {},
   "source": [
    "## Exercise 2\n",
    "Tuples are often used to pass values into functions. One nice feature is that their values can be passed to multiple variables at once, for example:\n",
    "\n",
    "my_tuple = ('A','B')\n",
    "\n",
    "a,b = my_tuple\n",
    "\n",
    "will set a and b to the ordered elements in my_tuple. \n",
    "\n",
    "What are a few different ways that you can make a new tuple that combine our Dr. Seuss themed tuples from earlier?\n",
    "1. By creating lots of temporary variables (messy)\n",
    "1. By using a for loop (less messy)\n",
    "1. By using a list (best?)\n",
    "\n",
    "We want one continuous tuple of strings, **not a tuple of tuples** as in the bad example below"
   ]
  },
  {
   "cell_type": "code",
   "execution_count": 13,
   "metadata": {},
   "outputs": [
    {
     "name": "stdout",
     "output_type": "stream",
     "text": [
      "((1, 'fish', 2, 'fish'), ('red', 'fish', 'blue', 'fish'))\n"
     ]
    }
   ],
   "source": [
    "a_simple_tuple = (1,'fish',2,'fish')\n",
    "annother_tuple = ('red','fish','blue','fish')\n",
    "bad_tuple = (a_simple_tuple,annother_tuple)\n",
    "print(bad_tuple)"
   ]
  },
  {
   "cell_type": "markdown",
   "metadata": {},
   "source": [
    "## Exercise 3\n",
    "Dictionaries are meant to be called by their keys. The order of a dictionary's keys is **not-predictable** (even though the above example seems to stay in the order we put time in... this is not dependable because a hash is used to link the keys and the items). You can access all values in a dictionary using the values command.\n",
    "1. Create a Tuple of UC Schools in order of enrollment size (this should be challenging as this is not how dictionaries are **typically** used\n",
    " *  To get things started we have a sorted list of school enrollement \n",
    " *  We can loop through each school-size and determine which school it is a match to\n",
    " *  This we can append to a new list (schools_bySize)\n",
    " *  We have started things off below...\n",
    "1. BONUS: have them print together nicely :)"
   ]
  },
  {
   "cell_type": "code",
   "execution_count": 17,
   "metadata": {},
   "outputs": [
    {
     "name": "stdout",
     "output_type": "stream",
     "text": [
      "School:\t Santa Barbara \tNumber of students:\t 21574\n",
      "School:\t Santa Cruz \tNumber of students:\t 16962\n",
      "School:\t Irvine \tNumber of students:\t 27331\n",
      "School:\t Los Angeles \tNumber of students:\t 30873\n",
      "School:\t Merced \tNumber of students:\t 6815\n",
      "School:\t Riverside \tNumber of students:\t 19799\n",
      "School:\t San Diego \tNumber of students:\t 28127\n",
      "School:\t San Francisco \tNumber of students:\t 0\n",
      "School:\t Berkeley \tNumber of students:\t 29310\n",
      "School:\t Davis \tNumber of students:\t 29379\n"
     ]
    }
   ],
   "source": [
    "UC_Enrollment = {'Santa Barbara':21574,'Santa Cruz':16962,'Irvine': 27331,'Los Angeles':30873,\n",
    "                 'Merced':6815,'Riverside':19799,'San Diego':28127,'San Francisco':0,\n",
    "                 'Berkeley':29310,'Davis':29379}\n",
    "\n",
    "# the keys command gives a list of all keys (not technically a list but behaves the same way)\n",
    "schools = UC_Enrollment.keys()\n",
    "\n",
    "# can loop over and print out...\n",
    "for school in schools:\n",
    "    num_students = UC_Enrollment[school]\n",
    "    print('School:\\t', school, '\\tNumber of students:\\t',num_students)"
   ]
  },
  {
   "cell_type": "markdown",
   "metadata": {},
   "source": [
    "# Exercise 4\n",
    "\n",
    "Write a module (in a .py file) that takes a list of 2 numbers and sorts them from low to high using a if...elif...else statement. \n",
    "\n",
    "Also include another function that will take a longer list of numbers (say ~5) and that uses a 'for' loop to compute the product of all numbers in the array. \n",
    "\n",
    "Bonus - for the first function that sorts the two numbers, do some checking to make sure that the input is exactly two numerical values and return gracefully with a helpful message if not. "
   ]
  },
  {
   "cell_type": "code",
   "execution_count": null,
   "metadata": {},
   "outputs": [],
   "source": []
  }
 ],
 "metadata": {
  "kernelspec": {
   "display_name": "Python 3",
   "language": "python",
   "name": "python3"
  },
  "language_info": {
   "codemirror_mode": {
    "name": "ipython",
    "version": 3
   },
   "file_extension": ".py",
   "mimetype": "text/x-python",
   "name": "python",
   "nbconvert_exporter": "python",
   "pygments_lexer": "ipython3",
   "version": "3.6.5"
  }
 },
 "nbformat": 4,
 "nbformat_minor": 2
}
