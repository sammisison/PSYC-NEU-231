{
 "cells": [
  {
   "cell_type": "markdown",
   "metadata": {},
   "source": [
    "## EXERCISES\n",
    "\n",
    "### Vector Multiplication\n",
    "1. Produce 2 vectors, one with integers in the range [5,10] and the other [15,20] using the np.arange function\n",
    "1. Without using any functions from the numpy module\n",
    "    1. Compute the outer product of those vectors \n",
    "    1. Compute the \"trace\" of the resulting matrix\n",
    "    \n",
    "    ![trace](https://wikimedia.org/api/rest_v1/media/math/render/svg/3e5b6e82272fc5eeca6d510388e0a2bd0a6c6463)\n",
    "    \n",
    "    \n",
    "Complete the same items using numpy operations"
   ]
  },
  {
   "cell_type": "code",
   "execution_count": 6,
   "metadata": {},
   "outputs": [
    {
     "name": "stdout",
     "output_type": "stream",
     "text": [
      "[ 5  6  7  8  9 10]\n",
      "[15 16 17 18 19 20]\n",
      "[[75, 80, 85, 90, 95, 100], [90, 96, 102, 108, 114, 120], [105, 112, 119, 126, 133, 140], [120, 128, 136, 144, 152, 160], [135, 144, 153, 162, 171, 180], [150, 160, 170, 180, 190, 200]]\n",
      "Trace of Outer Product Matrix: 805\n"
     ]
    }
   ],
   "source": [
    "import numpy as np\n",
    "x = np.arange(5,11)\n",
    "y = np.arange(15,21)\n",
    "\n",
    "print(x)\n",
    "print(y)\n",
    "\n",
    "outer_product = []\n",
    "\n",
    "for i in range (len(x)):\n",
    "    row = []\n",
    "    for j in range (len(y)):\n",
    "        row.append(x[i]*y[j])\n",
    "    outer_product.append(row)\n",
    "    \n",
    "print(outer_product)\n",
    "\n",
    "trace_values_list = []\n",
    "for i in range (len(outer_product)):\n",
    "    trace_value = outer_product[i][i]\n",
    "    trace_values_list.append(trace_value)\n",
    "    \n",
    "print('Trace of Outer Product Matrix:', sum(trace_values_list))"
   ]
  },
  {
   "cell_type": "markdown",
   "metadata": {},
   "source": [
    "### Matrix Multiplication\n",
    "* Two matricies can be multiplied if their inner dimensions match (eg. 2x3 * 3x5 -> 2x5). The best rule for working with and mutliplying matricies is to remember (rows x columns). This applies to both the dimensions of a matrix (a 2x3 matrix has 2 rows and 3 columns) as well as multiplication (you multiply the rows of the first matrix by the columns of the second). \n",
    "\n",
    "* When multiplying two matricies of dimension (M x N)*(N x P) the resulting matrix is (M x P). The upper element of the reslting matrix is the inner (or dot) product of the first row of the first matrix and the first column of the second matrix\n",
    "\n",
    "![two matrices](https://wikimedia.org/api/rest_v1/media/math/render/svg/16b1644351bc2041175b19cbc65da03ef78130c7)\n",
    "\n",
    "![store product in matrix C](https://wikimedia.org/api/rest_v1/media/math/render/svg/00ac0c831c365b7424cc43239aae8cebea27c56c)\n",
    "\n",
    "![matrix multiply](https://wikimedia.org/api/rest_v1/media/math/render/svg/3cfeccef1c8c7e6da0ddf08daed8dbf3c6f50c5e)\n",
    "\n",
    "for i = 1, ..., n and j = 1, ..., p.\n",
    "\n",
    "1. Make two matrices of random numbers (A and B). A should be a 4x3 matrix and B should be a 3x4 matrix. Multiply A by B using (to a resulting matrix C) using:\n",
    "    1. a conventional for-loop\n",
    "    1. list comprehension\n",
    "    1. numpy operator\n",
    "    \n",
    "2. After you have C, pull out the upper quadrant using fancy indexing, and then replace the main diagonal (upper left to lower right) with 0s. "
   ]
  },
  {
   "cell_type": "code",
   "execution_count": 2,
   "metadata": {},
   "outputs": [
    {
     "name": "stdout",
     "output_type": "stream",
     "text": [
      "A: [[188 321  58]\n",
      " [562  91 120]\n",
      " [424 613 521]\n",
      " [408  53 575]]\n",
      "B: [[759 212 155 947]\n",
      " [515 216 353 477]\n",
      " [112 213  75  38]]\n",
      "Matrix Multiplication using Loops:\n",
      "Matrix Multiplication using List Comprehension:\n",
      "Matrix Multiplication using Numpy: \n",
      " [[314503 121546 146803 333357]\n",
      " [486863 164360 128233 580181]\n",
      " [695863 333269 321184 713727]\n",
      " [401367 220419 125074 433507]]\n",
      "Upper Quadrant using Fancy Indexing: \n",
      " [[146803 333357]\n",
      " [128233 580181]] \n",
      "\n",
      "Replacing main diagonal with 0: \n",
      " [[     0 121546 146803 333357]\n",
      " [486863      0 128233 580181]\n",
      " [695863 333269      0 713727]\n",
      " [401367 220419 125074      0]]\n",
      "Replacing main diagonal with 0: \n",
      " [[     0 121546 146803 333357]\n",
      " [486863      0 128233 580181]\n",
      " [695863 333269      0 713727]\n",
      " [401367 220419 125074      0]]\n"
     ]
    }
   ],
   "source": [
    "import numpy as np\n",
    "\n",
    "A = np.random.randint(0,1000, size=(4,3))\n",
    "B = np.random.randint(0,1000, size=(3,4))\n",
    "print('A:', A)\n",
    "print('B:', B)\n",
    "\n",
    "matrix_result = [[0,0,0,0], [0,0,0,0], [0,0,0,0], [0,0,0,0]]\n",
    "\n",
    "for i in range(len(A)): #iterate through rows of A\n",
    "    \n",
    "    for j in range(len(B[0])): # iterate through columns of B\n",
    "        \n",
    "        for k in range(len(B)): # iterate through rows of B\n",
    "           matrix_result[i][j] += A[i][k] * B[k][j]\n",
    "print('Matrix Multiplication using Loops:')     \n",
    "matrix_result\n",
    "\n",
    "matrix_result2 = []\n",
    "\n",
    "matrix_result2 = [[sum(a*b for a,b in zip(A_row,B_col)) for B_col in zip(*B)] for A_row in A]\n",
    "\n",
    "print('Matrix Multiplication using List Comprehension:') \n",
    "matrix_result2\n",
    "\n",
    "#numpy operator\n",
    "\n",
    "matrix_c = np.matmul(A,B)\n",
    "# numpy function for matrix multiplication\n",
    "print('Matrix Multiplication using Numpy:', '\\n', matrix_c)\n",
    "\n",
    "# pull out the upper quadrant using fancy indexing\n",
    "upper_quadrant = matrix_c[:2,2:]\n",
    "print ('Upper Quadrant using Fancy Indexing:', '\\n', upper_quadrant, '\\n') #pulls out last to columns and first two rows\n",
    "\n",
    "# Replace the main diagonal (upper left to lower right) with 0s.\n",
    "# list comprehension iterating through rows and columns of matrix_c.\n",
    "# if the column = row (which will be true of all locations on the \n",
    "# diagonal), the value passed to diagonal_zero for the location will \n",
    "# be zero. If not on the diagonal, will pass the value of matrix_c for \n",
    "# that location. \n",
    "diagonal_zero = [[ matrix_c[rows][columns] if rows != columns else 0 for columns in range(len(matrix_c[0])) ] for rows in range(len(matrix_c))]\n",
    "print('Replacing main diagonal with 0:','\\n', np.asarray(diagonal_zero))\n",
    "\n",
    "# Another method of replacing main diagonal with 0 using for loops\n",
    "matrix_c = np.matmul(A,B)\n",
    "diagonal_matrix2 = matrix_c[:,:]\n",
    "\n",
    "for rows in range(len(diagonal_matrix2)):\n",
    "    for columns in range(len(diagonal_matrix2[0])):\n",
    "        if rows == columns:\n",
    "            diagonal_matrix2[rows][columns] = 0\n",
    "        else:\n",
    "            continue\n",
    "print ('Replacing main diagonal with 0:', '\\n', diagonal_matrix2)"
   ]
  }
 ],
 "metadata": {
  "kernelspec": {
   "display_name": "Python 3",
   "language": "python",
   "name": "python3"
  },
  "language_info": {
   "codemirror_mode": {
    "name": "ipython",
    "version": 3
   },
   "file_extension": ".py",
   "mimetype": "text/x-python",
   "name": "python",
   "nbconvert_exporter": "python",
   "pygments_lexer": "ipython3",
   "version": "3.6.5"
  }
 },
 "nbformat": 4,
 "nbformat_minor": 2
}
